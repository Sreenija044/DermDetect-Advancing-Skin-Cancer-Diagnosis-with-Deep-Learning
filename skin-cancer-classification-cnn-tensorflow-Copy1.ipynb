{
 "cells": [
  {
   "cell_type": "code",
   "execution_count": 38,
   "id": "6ed940ab",
   "metadata": {
    "execution": {
     "iopub.execute_input": "2023-10-02T08:01:17.922511Z",
     "iopub.status.busy": "2023-10-02T08:01:17.922208Z",
     "iopub.status.idle": "2023-10-02T08:01:18.589793Z",
     "shell.execute_reply": "2023-10-02T08:01:18.588885Z"
    },
    "id": "kES_rD67rrG6",
    "papermill": {
     "duration": 0.676274,
     "end_time": "2023-10-02T08:01:18.591801",
     "exception": false,
     "start_time": "2023-10-02T08:01:17.915527",
     "status": "completed"
    },
    "tags": []
   },
   "outputs": [],
   "source": [
    "import pandas as pd\n",
    "import numpy as np\n",
    "import warnings \n",
    "warnings.filterwarnings('ignore')"
   ]
  },
  {
   "cell_type": "code",
   "execution_count": 39,
   "id": "708d26b1",
   "metadata": {
    "execution": {
     "iopub.execute_input": "2023-10-02T08:01:20.704925Z",
     "iopub.status.busy": "2023-10-02T08:01:20.704504Z",
     "iopub.status.idle": "2023-10-02T08:01:20.708852Z",
     "shell.execute_reply": "2023-10-02T08:01:20.707915Z"
    },
    "id": "g7tDvsg5sNZK",
    "papermill": {
     "duration": 0.012903,
     "end_time": "2023-10-02T08:01:20.710517",
     "exception": false,
     "start_time": "2023-10-02T08:01:20.697614",
     "status": "completed"
    },
    "tags": []
   },
   "outputs": [],
   "source": [
    "#Dataset used: https://www.kaggle.com/kmader/skin-cancer-mnist-ham10000\n",
    "path=\"C:/Users/91891/Downloads/hmnist_28_28_RGB.csv\""
   ]
  },
  {
   "cell_type": "code",
   "execution_count": 40,
   "id": "6e1b3e64",
   "metadata": {
    "execution": {
     "iopub.execute_input": "2023-10-02T08:01:20.723100Z",
     "iopub.status.busy": "2023-10-02T08:01:20.722315Z",
     "iopub.status.idle": "2023-10-02T08:01:23.981764Z",
     "shell.execute_reply": "2023-10-02T08:01:23.980790Z"
    },
    "id": "TSlPUvq-sfo4",
    "papermill": {
     "duration": 3.267885,
     "end_time": "2023-10-02T08:01:23.983939",
     "exception": false,
     "start_time": "2023-10-02T08:01:20.716054",
     "status": "completed"
    },
    "tags": []
   },
   "outputs": [],
   "source": [
    "df=pd.read_csv(path)"
   ]
  },
  {
   "cell_type": "code",
   "execution_count": 41,
   "id": "7d82f8e8",
   "metadata": {
    "execution": {
     "iopub.execute_input": "2023-10-02T08:01:23.996656Z",
     "iopub.status.busy": "2023-10-02T08:01:23.996393Z",
     "iopub.status.idle": "2023-10-02T08:01:24.018753Z",
     "shell.execute_reply": "2023-10-02T08:01:24.017808Z"
    },
    "id": "-XZB67tXslAf",
    "outputId": "7ff89a09-b252-4e2b-82e9-282b328bc92e",
    "papermill": {
     "duration": 0.030698,
     "end_time": "2023-10-02T08:01:24.020451",
     "exception": false,
     "start_time": "2023-10-02T08:01:23.989753",
     "status": "completed"
    },
    "tags": []
   },
   "outputs": [
    {
     "data": {
      "text/html": [
       "<div>\n",
       "<style scoped>\n",
       "    .dataframe tbody tr th:only-of-type {\n",
       "        vertical-align: middle;\n",
       "    }\n",
       "\n",
       "    .dataframe tbody tr th {\n",
       "        vertical-align: top;\n",
       "    }\n",
       "\n",
       "    .dataframe thead th {\n",
       "        text-align: right;\n",
       "    }\n",
       "</style>\n",
       "<table border=\"1\" class=\"dataframe\">\n",
       "  <thead>\n",
       "    <tr style=\"text-align: right;\">\n",
       "      <th></th>\n",
       "      <th>pixel0000</th>\n",
       "      <th>pixel0001</th>\n",
       "      <th>pixel0002</th>\n",
       "      <th>pixel0003</th>\n",
       "      <th>pixel0004</th>\n",
       "      <th>pixel0005</th>\n",
       "      <th>pixel0006</th>\n",
       "      <th>pixel0007</th>\n",
       "      <th>pixel0008</th>\n",
       "      <th>pixel0009</th>\n",
       "      <th>...</th>\n",
       "      <th>pixel2343</th>\n",
       "      <th>pixel2344</th>\n",
       "      <th>pixel2345</th>\n",
       "      <th>pixel2346</th>\n",
       "      <th>pixel2347</th>\n",
       "      <th>pixel2348</th>\n",
       "      <th>pixel2349</th>\n",
       "      <th>pixel2350</th>\n",
       "      <th>pixel2351</th>\n",
       "      <th>label</th>\n",
       "    </tr>\n",
       "  </thead>\n",
       "  <tbody>\n",
       "    <tr>\n",
       "      <th>10010</th>\n",
       "      <td>183</td>\n",
       "      <td>165</td>\n",
       "      <td>181</td>\n",
       "      <td>182</td>\n",
       "      <td>165</td>\n",
       "      <td>180</td>\n",
       "      <td>184</td>\n",
       "      <td>166</td>\n",
       "      <td>182</td>\n",
       "      <td>188</td>\n",
       "      <td>...</td>\n",
       "      <td>208</td>\n",
       "      <td>185</td>\n",
       "      <td>187</td>\n",
       "      <td>208</td>\n",
       "      <td>186</td>\n",
       "      <td>186</td>\n",
       "      <td>206</td>\n",
       "      <td>187</td>\n",
       "      <td>189</td>\n",
       "      <td>0</td>\n",
       "    </tr>\n",
       "    <tr>\n",
       "      <th>10011</th>\n",
       "      <td>2</td>\n",
       "      <td>3</td>\n",
       "      <td>1</td>\n",
       "      <td>38</td>\n",
       "      <td>33</td>\n",
       "      <td>32</td>\n",
       "      <td>121</td>\n",
       "      <td>104</td>\n",
       "      <td>103</td>\n",
       "      <td>132</td>\n",
       "      <td>...</td>\n",
       "      <td>96</td>\n",
       "      <td>79</td>\n",
       "      <td>76</td>\n",
       "      <td>24</td>\n",
       "      <td>23</td>\n",
       "      <td>21</td>\n",
       "      <td>3</td>\n",
       "      <td>4</td>\n",
       "      <td>1</td>\n",
       "      <td>0</td>\n",
       "    </tr>\n",
       "    <tr>\n",
       "      <th>10012</th>\n",
       "      <td>132</td>\n",
       "      <td>118</td>\n",
       "      <td>118</td>\n",
       "      <td>167</td>\n",
       "      <td>149</td>\n",
       "      <td>149</td>\n",
       "      <td>175</td>\n",
       "      <td>156</td>\n",
       "      <td>160</td>\n",
       "      <td>184</td>\n",
       "      <td>...</td>\n",
       "      <td>204</td>\n",
       "      <td>181</td>\n",
       "      <td>178</td>\n",
       "      <td>181</td>\n",
       "      <td>159</td>\n",
       "      <td>153</td>\n",
       "      <td>172</td>\n",
       "      <td>151</td>\n",
       "      <td>145</td>\n",
       "      <td>0</td>\n",
       "    </tr>\n",
       "    <tr>\n",
       "      <th>10013</th>\n",
       "      <td>160</td>\n",
       "      <td>124</td>\n",
       "      <td>146</td>\n",
       "      <td>164</td>\n",
       "      <td>131</td>\n",
       "      <td>152</td>\n",
       "      <td>167</td>\n",
       "      <td>127</td>\n",
       "      <td>146</td>\n",
       "      <td>169</td>\n",
       "      <td>...</td>\n",
       "      <td>185</td>\n",
       "      <td>162</td>\n",
       "      <td>167</td>\n",
       "      <td>184</td>\n",
       "      <td>157</td>\n",
       "      <td>166</td>\n",
       "      <td>185</td>\n",
       "      <td>162</td>\n",
       "      <td>172</td>\n",
       "      <td>0</td>\n",
       "    </tr>\n",
       "    <tr>\n",
       "      <th>10014</th>\n",
       "      <td>175</td>\n",
       "      <td>142</td>\n",
       "      <td>121</td>\n",
       "      <td>181</td>\n",
       "      <td>150</td>\n",
       "      <td>134</td>\n",
       "      <td>181</td>\n",
       "      <td>150</td>\n",
       "      <td>133</td>\n",
       "      <td>178</td>\n",
       "      <td>...</td>\n",
       "      <td>159</td>\n",
       "      <td>79</td>\n",
       "      <td>82</td>\n",
       "      <td>174</td>\n",
       "      <td>137</td>\n",
       "      <td>125</td>\n",
       "      <td>175</td>\n",
       "      <td>139</td>\n",
       "      <td>126</td>\n",
       "      <td>6</td>\n",
       "    </tr>\n",
       "  </tbody>\n",
       "</table>\n",
       "<p>5 rows × 2353 columns</p>\n",
       "</div>"
      ],
      "text/plain": [
       "       pixel0000  pixel0001  pixel0002  pixel0003  pixel0004  pixel0005  \\\n",
       "10010        183        165        181        182        165        180   \n",
       "10011          2          3          1         38         33         32   \n",
       "10012        132        118        118        167        149        149   \n",
       "10013        160        124        146        164        131        152   \n",
       "10014        175        142        121        181        150        134   \n",
       "\n",
       "       pixel0006  pixel0007  pixel0008  pixel0009  ...  pixel2343  pixel2344  \\\n",
       "10010        184        166        182        188  ...        208        185   \n",
       "10011        121        104        103        132  ...         96         79   \n",
       "10012        175        156        160        184  ...        204        181   \n",
       "10013        167        127        146        169  ...        185        162   \n",
       "10014        181        150        133        178  ...        159         79   \n",
       "\n",
       "       pixel2345  pixel2346  pixel2347  pixel2348  pixel2349  pixel2350  \\\n",
       "10010        187        208        186        186        206        187   \n",
       "10011         76         24         23         21          3          4   \n",
       "10012        178        181        159        153        172        151   \n",
       "10013        167        184        157        166        185        162   \n",
       "10014         82        174        137        125        175        139   \n",
       "\n",
       "       pixel2351  label  \n",
       "10010        189      0  \n",
       "10011          1      0  \n",
       "10012        145      0  \n",
       "10013        172      0  \n",
       "10014        126      6  \n",
       "\n",
       "[5 rows x 2353 columns]"
      ]
     },
     "execution_count": 41,
     "metadata": {},
     "output_type": "execute_result"
    }
   ],
   "source": [
    "df.tail()"
   ]
  },
  {
   "cell_type": "code",
   "execution_count": 42,
   "id": "c387748a",
   "metadata": {
    "execution": {
     "iopub.execute_input": "2023-10-02T08:01:24.045382Z",
     "iopub.status.busy": "2023-10-02T08:01:24.044831Z",
     "iopub.status.idle": "2023-10-02T08:01:24.273163Z",
     "shell.execute_reply": "2023-10-02T08:01:24.272131Z"
    },
    "id": "iILXCW2hsoDl",
    "papermill": {
     "duration": 0.237385,
     "end_time": "2023-10-02T08:01:24.275377",
     "exception": false,
     "start_time": "2023-10-02T08:01:24.037992",
     "status": "completed"
    },
    "tags": []
   },
   "outputs": [],
   "source": [
    "from sklearn.model_selection import train_test_split\n",
    "fractions = np.array([0.8, 0.2])\n",
    "df = df.sample(frac=1)\n",
    "\n",
    "train_set, test_set = np.array_split(df, (fractions[:-1].cumsum() * len(df)).astype(int))\n",
    "x_train = train_set.drop(columns=['label'])\n",
    "y_train = train_set['label']\n",
    "\n",
    "x_train, x_val, y_train, y_val = train_test_split(x_train, y_train, test_size=0.2, random_state=42)\n",
    "\n",
    "x_train = np.array(x_train, dtype=np.uint8).reshape(-1, 28, 28, 3)\n",
    "x_val = np.array(x_val, dtype=np.uint8).reshape(-1, 28, 28, 3)\n"
   ]
  },
  {
   "cell_type": "code",
   "execution_count": 43,
   "id": "7c50596c",
   "metadata": {
    "execution": {
     "iopub.execute_input": "2023-10-02T08:01:24.289338Z",
     "iopub.status.busy": "2023-10-02T08:01:24.289025Z",
     "iopub.status.idle": "2023-10-02T08:01:24.293640Z",
     "shell.execute_reply": "2023-10-02T08:01:24.292746Z"
    },
    "id": "As38rXlQs1PY",
    "outputId": "25b4b741-3a45-4b5d-e6bc-1cf3cf8160e7",
    "papermill": {
     "duration": 0.014056,
     "end_time": "2023-10-02T08:01:24.295810",
     "exception": false,
     "start_time": "2023-10-02T08:01:24.281754",
     "status": "completed"
    },
    "tags": []
   },
   "outputs": [
    {
     "name": "stdout",
     "output_type": "stream",
     "text": [
      "8012\n"
     ]
    }
   ],
   "source": [
    "print(len(train_set))"
   ]
  },
  {
   "cell_type": "code",
   "execution_count": 44,
   "id": "c3cc111d",
   "metadata": {
    "execution": {
     "iopub.execute_input": "2023-10-02T08:01:24.308735Z",
     "iopub.status.busy": "2023-10-02T08:01:24.308498Z",
     "iopub.status.idle": "2023-10-02T08:01:24.312749Z",
     "shell.execute_reply": "2023-10-02T08:01:24.311939Z"
    },
    "id": "VY83gf_ss-x1",
    "outputId": "1b7132af-cb98-46c0-d98b-931a3b400992",
    "papermill": {
     "duration": 0.012958,
     "end_time": "2023-10-02T08:01:24.314679",
     "exception": false,
     "start_time": "2023-10-02T08:01:24.301721",
     "status": "completed"
    },
    "tags": []
   },
   "outputs": [
    {
     "name": "stdout",
     "output_type": "stream",
     "text": [
      "2003\n"
     ]
    }
   ],
   "source": [
    "print(len(test_set))"
   ]
  },
  {
   "cell_type": "code",
   "execution_count": 45,
   "id": "d040744c",
   "metadata": {
    "execution": {
     "iopub.execute_input": "2023-10-02T08:01:24.328336Z",
     "iopub.status.busy": "2023-10-02T08:01:24.327635Z",
     "iopub.status.idle": "2023-10-02T08:01:24.337087Z",
     "shell.execute_reply": "2023-10-02T08:01:24.336139Z"
    },
    "id": "3w2H4w0_ubRT",
    "outputId": "5f767c17-fcb5-4507-bf28-4e7142199f17",
    "papermill": {
     "duration": 0.018279,
     "end_time": "2023-10-02T08:01:24.339010",
     "exception": false,
     "start_time": "2023-10-02T08:01:24.320731",
     "status": "completed"
    },
    "tags": []
   },
   "outputs": [
    {
     "data": {
      "text/plain": [
       "array([4, 1, 2, 3, 6, 0, 5], dtype=int64)"
      ]
     },
     "execution_count": 45,
     "metadata": {},
     "output_type": "execute_result"
    }
   ],
   "source": [
    "df.label.unique()"
   ]
  },
  {
   "cell_type": "code",
   "execution_count": 46,
   "id": "1b4449d4",
   "metadata": {
    "execution": {
     "iopub.execute_input": "2023-10-02T08:01:24.353133Z",
     "iopub.status.busy": "2023-10-02T08:01:24.352347Z",
     "iopub.status.idle": "2023-10-02T08:01:24.357012Z",
     "shell.execute_reply": "2023-10-02T08:01:24.356258Z"
    },
    "id": "lHk4p-sdugSa",
    "papermill": {
     "duration": 0.013114,
     "end_time": "2023-10-02T08:01:24.358692",
     "exception": false,
     "start_time": "2023-10-02T08:01:24.345578",
     "status": "completed"
    },
    "tags": []
   },
   "outputs": [],
   "source": [
    "# reference: https://www.kaggle.com/kmader/skin-cancer-mnist-ham10000/discussion/183083\n",
    "classes={0:('akiec', 'actinic keratoses and intraepithelial carcinomae'),\n",
    "         1:('bcc' , 'basal cell carcinoma'),\n",
    "         2:('bkl', 'benign'),\n",
    "         3:('df', 'dermatofibroma'),\n",
    "         4:('nv', ' melanocytic nevi'),\n",
    "         5:('vasc', ' pyogenic granulomas and hemorrhage'),\n",
    "         6:('mel', 'melanoma'),}"
   ]
  },
  {
   "cell_type": "code",
   "execution_count": 47,
   "id": "259ed883",
   "metadata": {
    "execution": {
     "iopub.execute_input": "2023-10-02T08:01:24.372054Z",
     "iopub.status.busy": "2023-10-02T08:01:24.371377Z",
     "iopub.status.idle": "2023-10-02T08:01:24.437795Z",
     "shell.execute_reply": "2023-10-02T08:01:24.436772Z"
    },
    "id": "2W5sBRkZtBr9",
    "papermill": {
     "duration": 0.075232,
     "end_time": "2023-10-02T08:01:24.440009",
     "exception": false,
     "start_time": "2023-10-02T08:01:24.364777",
     "status": "completed"
    },
    "tags": []
   },
   "outputs": [],
   "source": [
    "#separating featues and labels\n",
    "y_train=train_set['label']\n",
    "x_train=train_set.drop(columns=['label'])\n",
    "y_test=test_set['label']\n",
    "x_test=test_set.drop(columns=['label'])\n",
    "columns=list(x_train)"
   ]
  },
  {
   "cell_type": "code",
   "execution_count": 48,
   "id": "20a864ef",
   "metadata": {
    "execution": {
     "iopub.execute_input": "2023-10-02T08:01:31.379190Z",
     "iopub.status.busy": "2023-10-02T08:01:31.378476Z",
     "iopub.status.idle": "2023-10-02T08:01:32.339325Z",
     "shell.execute_reply": "2023-10-02T08:01:32.338445Z"
    },
    "id": "84ADzEUx5R9I",
    "outputId": "052655c5-cf03-45b5-d7f7-eb8e2e41637a",
    "papermill": {
     "duration": 0.970782,
     "end_time": "2023-10-02T08:01:32.341216",
     "exception": false,
     "start_time": "2023-10-02T08:01:31.370434",
     "status": "completed"
    },
    "tags": []
   },
   "outputs": [
    {
     "data": {
      "image/png": "[encoded data removed]",
      "text/plain": [
       "<Figure size 640x480 with 1 Axes>"
      ]
     },
     "metadata": {},
     "output_type": "display_data"
    },
    {
     "data": {
      "image/png": "[encoded data removed]",
      "text/plain": [
       "<Figure size 640x480 with 1 Axes>"
      ]
     },
     "metadata": {},
     "output_type": "display_data"
    },
    {
     "data": {
      "image/png": "[encoded data removed]",
      "text/plain": [
       "<Figure size 640x480 with 1 Axes>"
      ]
     },
     "metadata": {},
     "output_type": "display_data"
    }
   ],
   "source": [
    "import matplotlib.pyplot as plt\n",
    "import random\n",
    "num=random.randint(0,8000)\n",
    "x_train=np.array(x_train, dtype=np.uint8).reshape(-1,28,28,3)\n",
    "\n",
    "plt.imshow(x_train[num].reshape(28,28,3))\n",
    "plt.title(\"Random image from training data\")\n",
    "plt.show()\n",
    "num=random.randint(0,8000)\n",
    "plt.imshow(x_train[num].reshape(28,28,3))\n",
    "plt.title(\"Random image from training data\")\n",
    "plt.show()\n",
    "\n",
    "num=random.randint(0,8000)\n",
    "plt.imshow(x_train[num].reshape(28,28,3))\n",
    "plt.title(\"Random image from training data\")\n",
    "plt.show()"
   ]
  },
  {
   "cell_type": "code",
   "execution_count": 49,
   "id": "408d9e99",
   "metadata": {
    "execution": {
     "iopub.execute_input": "2023-10-02T08:01:32.372248Z",
     "iopub.status.busy": "2023-10-02T08:01:32.371954Z",
     "iopub.status.idle": "2023-10-02T08:01:39.301510Z",
     "shell.execute_reply": "2023-10-02T08:01:39.300596Z"
    },
    "id": "obmDZia7Sxnn",
    "papermill": {
     "duration": 6.939931,
     "end_time": "2023-10-02T08:01:39.303646",
     "exception": false,
     "start_time": "2023-10-02T08:01:32.363715",
     "status": "completed"
    },
    "tags": []
   },
   "outputs": [],
   "source": [
    "from tensorflow.keras.models import Sequential\n",
    "from tensorflow.keras.layers import Conv2D, Flatten, Dense, MaxPool2D\n",
    "import tensorflow as tf"
   ]
  },
  {
   "cell_type": "code",
   "execution_count": 50,
   "id": "959e3fae",
   "metadata": {
    "execution": {
     "iopub.execute_input": "2023-10-02T08:01:39.320242Z",
     "iopub.status.busy": "2023-10-02T08:01:39.319700Z",
     "iopub.status.idle": "2023-10-02T08:01:44.789745Z",
     "shell.execute_reply": "2023-10-02T08:01:44.788941Z"
    },
    "id": "Vsll2hd2wzuS",
    "outputId": "72d98919-77a3-46eb-ea1d-fecce118efcb",
    "papermill": {
     "duration": 5.513026,
     "end_time": "2023-10-02T08:01:44.824419",
     "exception": false,
     "start_time": "2023-10-02T08:01:39.311393",
     "status": "completed"
    },
    "tags": []
   },
   "outputs": [
    {
     "name": "stdout",
     "output_type": "stream",
     "text": [
      "CPU times: total: 0 ns\n",
      "Wall time: 0 ns\n",
      "Model: \"sequential_1\"\n",
      "_________________________________________________________________\n",
      " Layer (type)                Output Shape              Param #   \n",
      "=================================================================\n",
      " conv2d_5 (Conv2D)           (None, 28, 28, 16)        448       \n",
      "                                                                 \n",
      " max_pooling2d_2 (MaxPooling  (None, 14, 14, 16)       0         \n",
      " 2D)                                                             \n",
      "                                                                 \n",
      " batch_normalization_6 (Batc  (None, 14, 14, 16)       64        \n",
      " hNormalization)                                                 \n",
      "                                                                 \n",
      " conv2d_6 (Conv2D)           (None, 12, 12, 32)        4640      \n",
      "                                                                 \n",
      " conv2d_7 (Conv2D)           (None, 10, 10, 64)        18496     \n",
      "                                                                 \n",
      " max_pooling2d_3 (MaxPooling  (None, 5, 5, 64)         0         \n",
      " 2D)                                                             \n",
      "                                                                 \n",
      " batch_normalization_7 (Batc  (None, 5, 5, 64)         256       \n",
      " hNormalization)                                                 \n",
      "                                                                 \n",
      " conv2d_8 (Conv2D)           (None, 3, 3, 128)         73856     \n",
      "                                                                 \n",
      " conv2d_9 (Conv2D)           (None, 1, 1, 256)         295168    \n",
      "                                                                 \n",
      " flatten_1 (Flatten)         (None, 256)               0         \n",
      "                                                                 \n",
      " dropout_3 (Dropout)         (None, 256)               0         \n",
      "                                                                 \n",
      " dense_5 (Dense)             (None, 256)               65792     \n",
      "                                                                 \n",
      " batch_normalization_8 (Batc  (None, 256)              1024      \n",
      " hNormalization)                                                 \n",
      "                                                                 \n",
      " dropout_4 (Dropout)         (None, 256)               0         \n",
      "                                                                 \n",
      " dense_6 (Dense)             (None, 128)               32896     \n",
      "                                                                 \n",
      " batch_normalization_9 (Batc  (None, 128)              512       \n",
      " hNormalization)                                                 \n",
      "                                                                 \n",
      " dense_7 (Dense)             (None, 64)                8256      \n",
      "                                                                 \n",
      " batch_normalization_10 (Bat  (None, 64)               256       \n",
      " chNormalization)                                                \n",
      "                                                                 \n",
      " dropout_5 (Dropout)         (None, 64)                0         \n",
      "                                                                 \n",
      " dense_8 (Dense)             (None, 32)                2080      \n",
      "                                                                 \n",
      " batch_normalization_11 (Bat  (None, 32)               128       \n",
      " chNormalization)                                                \n",
      "                                                                 \n",
      " dense_9 (Dense)             (None, 7)                 231       \n",
      "                                                                 \n",
      "=================================================================\n",
      "Total params: 504,103\n",
      "Trainable params: 502,983\n",
      "Non-trainable params: 1,120\n",
      "_________________________________________________________________\n"
     ]
    }
   ],
   "source": [
    "#https://keras.io/api/models/sequential/\n",
    "#https://keras.io/api/layers/core_layers/dense/\n",
    "#https://keras.io/api/layers/merging_layers/add/\n",
    "%time \n",
    "\n",
    "model = Sequential()\n",
    "model.add(Conv2D(16, kernel_size = (3,3), input_shape = (28, 28, 3), activation = 'relu', padding = 'same'))\n",
    "model.add(MaxPool2D(pool_size = (2,2)))\n",
    "model.add(tf.keras.layers.BatchNormalization())\n",
    "\n",
    "model.add(Conv2D(32, kernel_size = (3,3), activation = 'relu'))\n",
    "model.add(Conv2D(64, kernel_size = (3,3), activation = 'relu'))\n",
    "\n",
    "model.add(MaxPool2D(pool_size = (2,2)))\n",
    "\n",
    "model.add(tf.keras.layers.BatchNormalization())\n",
    "\n",
    "model.add(Conv2D(128, kernel_size = (3,3), activation = 'relu'))\n",
    "model.add(Conv2D(256, kernel_size = (3,3), activation = 'relu'))\n",
    "\n",
    "model.add(Flatten())\n",
    "model.add(tf.keras.layers.Dropout(0.2))\n",
    "model.add(Dense(256,activation='relu'))\n",
    "\n",
    "model.add(tf.keras.layers.BatchNormalization())\n",
    "model.add(tf.keras.layers.Dropout(0.2))\n",
    "model.add(Dense(128,activation='relu'))\n",
    "\n",
    "model.add(tf.keras.layers.BatchNormalization())\n",
    "model.add(Dense(64,activation='relu'))\n",
    "\n",
    "model.add(tf.keras.layers.BatchNormalization())\n",
    "model.add(tf.keras.layers.Dropout(0.2))\n",
    "model.add(Dense(32,activation='relu'))\n",
    "\n",
    "model.add(tf.keras.layers.BatchNormalization())\n",
    "model.add(Dense(7,activation='softmax'))\n",
    "\n",
    "model.summary()"
   ]
  },
  {
   "cell_type": "code",
   "execution_count": 51,
   "id": "9501843b",
   "metadata": {
    "execution": {
     "iopub.execute_input": "2023-10-02T08:01:44.906678Z",
     "iopub.status.busy": "2023-10-02T08:01:44.906347Z",
     "iopub.status.idle": "2023-10-02T08:01:44.910914Z",
     "shell.execute_reply": "2023-10-02T08:01:44.909969Z"
    },
    "id": "g4B4-f7ehUIW",
    "papermill": {
     "duration": 0.017286,
     "end_time": "2023-10-02T08:01:44.912657",
     "exception": false,
     "start_time": "2023-10-02T08:01:44.895371",
     "status": "completed"
    },
    "tags": []
   },
   "outputs": [],
   "source": [
    "#reference: https://www.kaggle.com/dhruv1234/ham10000-skin-disease-classification\n",
    "callback = tf.keras.callbacks.ModelCheckpoint(filepath='best_model.h5',\n",
    "                                              monitor='val_accuracy', \n",
    "                                              mode='max',\n",
    "                                              verbose=1, \n",
    "                                              save_best_only=True)"
   ]
  },
  {
   "cell_type": "code",
   "execution_count": 52,
   "id": "29d16e64",
   "metadata": {
    "execution": {
     "iopub.execute_input": "2023-10-02T08:01:44.934312Z",
     "iopub.status.busy": "2023-10-02T08:01:44.933600Z",
     "iopub.status.idle": "2023-10-02T08:01:45.167911Z",
     "shell.execute_reply": "2023-10-02T08:01:45.167003Z"
    },
    "id": "wPmBHtmLxxR4",
    "outputId": "f68031fe-8bce-4ff3-9f49-52411c0272ea",
    "papermill": {
     "duration": 0.247245,
     "end_time": "2023-10-02T08:01:45.169767",
     "exception": false,
     "start_time": "2023-10-02T08:01:44.922522",
     "status": "completed"
    },
    "scrolled": true,
    "tags": []
   },
   "outputs": [
    {
     "name": "stdout",
     "output_type": "stream",
     "text": [
      "CPU times: total: 0 ns\n",
      "Wall time: 0 ns\n"
     ]
    }
   ],
   "source": [
    "%time \n",
    "optimizer=tf.keras.optimizers.legacy.Adam(lr=0.001)\n",
    "\n",
    "model.compile(loss = 'sparse_categorical_crossentropy',\n",
    "              optimizer =optimizer,\n",
    "              metrics = ['accuracy'])\n"
   ]
  },
  {
   "cell_type": "code",
   "execution_count": 53,
   "id": "997652e7",
   "metadata": {},
   "outputs": [
    {
     "name": "stdout",
     "output_type": "stream",
     "text": [
      "Epoch 1/20\n",
      "62/62 [==============================] - 8s 91ms/step - loss: 1.7965 - accuracy: 0.4205\n",
      "Epoch 2/20\n",
      "62/62 [==============================] - 9s 144ms/step - loss: 1.3438 - accuracy: 0.6092\n",
      "Epoch 3/20\n",
      "62/62 [==============================] - 10s 158ms/step - loss: 1.1319 - accuracy: 0.6634\n",
      "Epoch 4/20\n",
      "62/62 [==============================] - 10s 160ms/step - loss: 0.9889 - accuracy: 0.6871\n",
      "Epoch 5/20\n",
      "62/62 [==============================] - 9s 151ms/step - loss: 0.9064 - accuracy: 0.6832\n",
      "Epoch 6/20\n",
      "62/62 [==============================] - 9s 144ms/step - loss: 0.8585 - accuracy: 0.7007\n",
      "Epoch 7/20\n",
      "62/62 [==============================] - 9s 150ms/step - loss: 0.8304 - accuracy: 0.7037\n",
      "Epoch 8/20\n",
      "62/62 [==============================] - 10s 158ms/step - loss: 0.7960 - accuracy: 0.7131\n",
      "Epoch 9/20\n",
      "62/62 [==============================] - 14s 227ms/step - loss: 0.7895 - accuracy: 0.7169\n",
      "Epoch 10/20\n",
      "62/62 [==============================] - 10s 154ms/step - loss: 0.7791 - accuracy: 0.7158\n",
      "Epoch 11/20\n",
      "62/62 [==============================] - 9s 150ms/step - loss: 0.7596 - accuracy: 0.7262\n",
      "Epoch 12/20\n",
      "62/62 [==============================] - 10s 152ms/step - loss: 0.7420 - accuracy: 0.7298\n",
      "Epoch 13/20\n",
      "62/62 [==============================] - 9s 151ms/step - loss: 0.7370 - accuracy: 0.7339\n",
      "Epoch 14/20\n",
      "62/62 [==============================] - 10s 155ms/step - loss: 0.7214 - accuracy: 0.7401\n",
      "Epoch 15/20\n",
      "62/62 [==============================] - 10s 158ms/step - loss: 0.7147 - accuracy: 0.7359\n",
      "Epoch 16/20\n",
      "62/62 [==============================] - 10s 154ms/step - loss: 0.7081 - accuracy: 0.7480\n",
      "Epoch 17/20\n",
      "62/62 [==============================] - 9s 147ms/step - loss: 0.7043 - accuracy: 0.7439\n",
      "Epoch 18/20\n",
      "62/62 [==============================] - 9s 149ms/step - loss: 0.6924 - accuracy: 0.7513\n",
      "Epoch 19/20\n",
      "62/62 [==============================] - 10s 156ms/step - loss: 0.6901 - accuracy: 0.7510\n",
      "Epoch 20/20\n",
      "62/62 [==============================] - 9s 146ms/step - loss: 0.6762 - accuracy: 0.7558\n"
     ]
    },
    {
     "data": {
      "text/plain": [
       "<keras.callbacks.History at 0x2144977f550>"
      ]
     },
     "execution_count": 53,
     "metadata": {},
     "output_type": "execute_result"
    }
   ],
   "source": [
    "from tensorflow.keras.preprocessing.image import ImageDataGenerator\n",
    "\n",
    "# Create an instance of ImageDataGenerator for data augmentation\n",
    "datagen = ImageDataGenerator(\n",
    "    rotation_range=20,      # Randomly rotate the images by up to 20 degrees\n",
    "    width_shift_range=0.2,  # Randomly shift images horizontally by up to 20% of the width\n",
    "    height_shift_range=0.2, # Randomly shift images vertically by up to 20% of the height\n",
    "    shear_range=0.2,        # Shear intensity (shear angle in radians)\n",
    "    zoom_range=0.2,         # Randomly zoom images by up to 20%\n",
    "    horizontal_flip=True,   # Randomly flip images horizontally\n",
    "    vertical_flip=True,     # Randomly flip images vertically\n",
    "    fill_mode='nearest'     # How to fill in newly created pixels after a transformation\n",
    ")\n",
    "\n",
    "# Fit the ImageDataGenerator to the training data\n",
    "datagen.fit(x_train)\n",
    "\n",
    "# Create a batch generator using the augmented data\n",
    "augmented_generator = datagen.flow(x_train, y_train, batch_size=128)\n",
    "\n",
    "# Now you can use augmented_generator as the input data for model training\n",
    "# Example:\n",
    "model.fit(augmented_generator, steps_per_epoch=len(x_train) // 128, epochs=20)\n",
    "\n"
   ]
  },
  {
   "cell_type": "code",
   "execution_count": 60,
   "id": "6b0a9f34",
   "metadata": {
    "execution": {
     "iopub.execute_input": "2023-10-02T08:01:45.212482Z",
     "iopub.status.busy": "2023-10-02T08:01:45.211616Z",
     "iopub.status.idle": "2023-10-02T08:03:51.290616Z",
     "shell.execute_reply": "2023-10-02T08:03:51.289295Z"
    },
    "id": "1XgBEIh5hY63",
    "outputId": "86dc3600-ce9a-48dc-cba7-94265181f84d",
    "papermill": {
     "duration": 126.092134,
     "end_time": "2023-10-02T08:03:51.292628",
     "exception": false,
     "start_time": "2023-10-02T08:01:45.200494",
     "status": "completed"
    },
    "scrolled": false,
    "tags": []
   },
   "outputs": [
    {
     "name": "stdout",
     "output_type": "stream",
     "text": [
      "Epoch 1/20\n",
      "125/126 [============================>.] - ETA: 0s - loss: 0.3119 - accuracy: 0.8967\n",
      "Epoch 1: val_accuracy did not improve from 0.93075\n",
      "126/126 [==============================] - 5s 36ms/step - loss: 0.3118 - accuracy: 0.8967 - val_loss: 0.6976 - val_accuracy: 0.7598\n",
      "Epoch 2/20\n",
      "125/126 [============================>.] - ETA: 0s - loss: 0.2354 - accuracy: 0.9212\n",
      "Epoch 2: val_accuracy did not improve from 0.93075\n",
      "126/126 [==============================] - 5s 36ms/step - loss: 0.2355 - accuracy: 0.9212 - val_loss: 0.2023 - val_accuracy: 0.9295\n",
      "Epoch 3/20\n",
      "125/126 [============================>.] - ETA: 0s - loss: 0.1954 - accuracy: 0.9361\n",
      "Epoch 3: val_accuracy did not improve from 0.93075\n",
      "126/126 [==============================] - 5s 38ms/step - loss: 0.1955 - accuracy: 0.9361 - val_loss: 0.5728 - val_accuracy: 0.8415\n",
      "Epoch 4/20\n",
      "125/126 [============================>.] - ETA: 0s - loss: 0.2366 - accuracy: 0.9189\n",
      "Epoch 4: val_accuracy did not improve from 0.93075\n",
      "126/126 [==============================] - 5s 38ms/step - loss: 0.2363 - accuracy: 0.9190 - val_loss: 0.6284 - val_accuracy: 0.8010\n",
      "Epoch 5/20\n",
      "125/126 [============================>.] - ETA: 0s - loss: 0.1613 - accuracy: 0.9470\n",
      "Epoch 5: val_accuracy improved from 0.93075 to 0.94635, saving model to best_model.h5\n",
      "126/126 [==============================] - 6s 49ms/step - loss: 0.1613 - accuracy: 0.9470 - val_loss: 0.1655 - val_accuracy: 0.9464\n",
      "Epoch 6/20\n",
      "125/126 [============================>.] - ETA: 0s - loss: 0.1574 - accuracy: 0.9475\n",
      "Epoch 6: val_accuracy improved from 0.94635 to 0.94697, saving model to best_model.h5\n",
      "126/126 [==============================] - 7s 52ms/step - loss: 0.1573 - accuracy: 0.9476 - val_loss: 0.1596 - val_accuracy: 0.9470\n",
      "Epoch 7/20\n",
      "125/126 [============================>.] - ETA: 0s - loss: 0.1229 - accuracy: 0.9599\n",
      "Epoch 7: val_accuracy improved from 0.94697 to 0.96070, saving model to best_model.h5\n",
      "126/126 [==============================] - 6s 51ms/step - loss: 0.1234 - accuracy: 0.9598 - val_loss: 0.1050 - val_accuracy: 0.9607\n",
      "Epoch 8/20\n",
      "125/126 [============================>.] - ETA: 0s - loss: 0.1339 - accuracy: 0.9549\n",
      "Epoch 8: val_accuracy did not improve from 0.96070\n",
      "126/126 [==============================] - 7s 52ms/step - loss: 0.1337 - accuracy: 0.9549 - val_loss: 0.1371 - val_accuracy: 0.9532\n",
      "Epoch 9/20\n",
      "126/126 [==============================] - ETA: 0s - loss: 0.0953 - accuracy: 0.9689\n",
      "Epoch 9: val_accuracy did not improve from 0.96070\n",
      "126/126 [==============================] - 7s 53ms/step - loss: 0.0953 - accuracy: 0.9689 - val_loss: 0.2220 - val_accuracy: 0.9320\n",
      "Epoch 10/20\n",
      "125/126 [============================>.] - ETA: 0s - loss: 0.1185 - accuracy: 0.9594\n",
      "Epoch 10: val_accuracy improved from 0.96070 to 0.96319, saving model to best_model.h5\n",
      "126/126 [==============================] - 7s 52ms/step - loss: 0.1187 - accuracy: 0.9592 - val_loss: 0.1158 - val_accuracy: 0.9632\n",
      "Epoch 11/20\n",
      "125/126 [============================>.] - ETA: 0s - loss: 0.0966 - accuracy: 0.9703\n",
      "Epoch 11: val_accuracy did not improve from 0.96319\n",
      "126/126 [==============================] - 7s 52ms/step - loss: 0.0974 - accuracy: 0.9702 - val_loss: 0.3324 - val_accuracy: 0.9039\n",
      "Epoch 12/20\n",
      "125/126 [============================>.] - ETA: 0s - loss: 0.0946 - accuracy: 0.9669\n",
      "Epoch 12: val_accuracy did not improve from 0.96319\n",
      "126/126 [==============================] - 7s 52ms/step - loss: 0.0955 - accuracy: 0.9668 - val_loss: 0.5915 - val_accuracy: 0.8515\n",
      "Epoch 13/20\n",
      "125/126 [============================>.] - ETA: 0s - loss: 0.1097 - accuracy: 0.9641\n",
      "Epoch 13: val_accuracy improved from 0.96319 to 0.97442, saving model to best_model.h5\n",
      "126/126 [==============================] - 7s 53ms/step - loss: 0.1099 - accuracy: 0.9641 - val_loss: 0.0853 - val_accuracy: 0.9744\n",
      "Epoch 14/20\n",
      "126/126 [==============================] - ETA: 0s - loss: 0.1070 - accuracy: 0.9652\n",
      "Epoch 14: val_accuracy did not improve from 0.97442\n",
      "126/126 [==============================] - 7s 54ms/step - loss: 0.1070 - accuracy: 0.9652 - val_loss: 0.2439 - val_accuracy: 0.9233\n",
      "Epoch 15/20\n",
      "125/126 [============================>.] - ETA: 0s - loss: 0.0822 - accuracy: 0.9741\n",
      "Epoch 15: val_accuracy did not improve from 0.97442\n",
      "126/126 [==============================] - 6s 51ms/step - loss: 0.0831 - accuracy: 0.9740 - val_loss: 0.1355 - val_accuracy: 0.9638\n",
      "Epoch 16/20\n",
      "125/126 [============================>.] - ETA: 0s - loss: 0.0665 - accuracy: 0.9785\n",
      "Epoch 16: val_accuracy did not improve from 0.97442\n",
      "126/126 [==============================] - 7s 52ms/step - loss: 0.0664 - accuracy: 0.9785 - val_loss: 0.3925 - val_accuracy: 0.8952\n",
      "Epoch 17/20\n",
      "125/126 [============================>.] - ETA: 0s - loss: 0.0649 - accuracy: 0.9791\n",
      "Epoch 17: val_accuracy improved from 0.97442 to 0.98378, saving model to best_model.h5\n",
      "126/126 [==============================] - 7s 53ms/step - loss: 0.0648 - accuracy: 0.9792 - val_loss: 0.0503 - val_accuracy: 0.9838\n",
      "Epoch 18/20\n",
      "125/126 [============================>.] - ETA: 0s - loss: 0.0739 - accuracy: 0.9761\n",
      "Epoch 18: val_accuracy did not improve from 0.98378\n",
      "126/126 [==============================] - 6s 50ms/step - loss: 0.0738 - accuracy: 0.9762 - val_loss: 0.0547 - val_accuracy: 0.9838\n",
      "Epoch 19/20\n",
      "126/126 [==============================] - ETA: 0s - loss: 0.0495 - accuracy: 0.9834\n",
      "Epoch 19: val_accuracy did not improve from 0.98378\n",
      "126/126 [==============================] - 7s 53ms/step - loss: 0.0495 - accuracy: 0.9834 - val_loss: 0.1568 - val_accuracy: 0.9507\n",
      "Epoch 20/20\n",
      "125/126 [============================>.] - ETA: 0s - loss: 0.0862 - accuracy: 0.9726\n",
      "Epoch 20: val_accuracy did not improve from 0.98378\n",
      "126/126 [==============================] - 7s 53ms/step - loss: 0.0866 - accuracy: 0.9725 - val_loss: 0.1026 - val_accuracy: 0.9682\n",
      "Duration: 0:02:03.647490\n"
     ]
    }
   ],
   "source": [
    "\n",
    "from datetime import datetime\n",
    "start_time = datetime.now()\n",
    "history = model.fit(x_train,\n",
    "                    y_train,\n",
    "                    validation_data=(x_val, y_val),  # Provide separate validation data\n",
    "                    batch_size=64,\n",
    "                    epochs=20,\n",
    "                    shuffle=True,\n",
    "                    callbacks=[callback])\n",
    "end_time = datetime.now()\n",
    "print('Duration: {}'.format(end_time - start_time))\n"
   ]
  },
  {
   "cell_type": "code",
   "execution_count": 61,
   "id": "7632f10e",
   "metadata": {
    "execution": {
     "iopub.execute_input": "2023-10-02T08:03:51.674795Z",
     "iopub.status.busy": "2023-10-02T08:03:51.673892Z",
     "iopub.status.idle": "2023-10-02T08:03:51.925138Z",
     "shell.execute_reply": "2023-10-02T08:03:51.924263Z"
    },
    "id": "qieCeDDGnEh3",
    "outputId": "a65d5487-89d9-4faa-973c-aa522717da87",
    "papermill": {
     "duration": 0.348409,
     "end_time": "2023-10-02T08:03:51.927039",
     "exception": false,
     "start_time": "2023-10-02T08:03:51.578630",
     "status": "completed"
    },
    "tags": []
   },
   "outputs": [
    {
     "data": {
      "image/png": "[encoded data removed]",
      "text/plain": [
       "<Figure size 640x480 with 1 Axes>"
      ]
     },
     "metadata": {},
     "output_type": "display_data"
    }
   ],
   "source": [
    "#plot of accuracy vs epoch\n",
    "plt.plot(history.history['accuracy'])\n",
    "plt.plot(history.history['val_accuracy'])\n",
    "plt.title('model accuracy')\n",
    "plt.ylabel('accuracy')\n",
    "plt.xlabel('epoch')\n",
    "plt.legend(['train', 'val'], loc='upper left')\n",
    "plt.show()"
   ]
  },
  {
   "cell_type": "code",
   "execution_count": 62,
   "id": "42223aba",
   "metadata": {
    "execution": {
     "iopub.execute_input": "2023-10-02T08:03:52.115297Z",
     "iopub.status.busy": "2023-10-02T08:03:52.114546Z",
     "iopub.status.idle": "2023-10-02T08:03:52.373338Z",
     "shell.execute_reply": "2023-10-02T08:03:52.372449Z"
    },
    "id": "8gK_9yQotuky",
    "outputId": "4b199079-1bc4-47b3-b0f6-0e399bd10966",
    "papermill": {
     "duration": 0.354836,
     "end_time": "2023-10-02T08:03:52.375330",
     "exception": false,
     "start_time": "2023-10-02T08:03:52.020494",
     "status": "completed"
    },
    "tags": []
   },
   "outputs": [
    {
     "data": {
      "image/png": "[encoded data removed]",
      "text/plain": [
       "<Figure size 640x480 with 1 Axes>"
      ]
     },
     "metadata": {},
     "output_type": "display_data"
    }
   ],
   "source": [
    "#plot of loss vs epoch\n",
    "plt.plot(history.history['loss'])\n",
    "plt.plot(history.history['val_loss'])\n",
    "plt.title('model loss')\n",
    "plt.ylabel('loss')\n",
    "plt.xlabel('epoch')\n",
    "plt.legend(['train', 'val'], loc='upper left')\n",
    "plt.show()"
   ]
  },
  {
   "cell_type": "code",
   "execution_count": 32,
   "id": "1bbfae47",
   "metadata": {
    "execution": {
     "iopub.execute_input": "2023-10-02T08:03:52.565041Z",
     "iopub.status.busy": "2023-10-02T08:03:52.564666Z",
     "iopub.status.idle": "2023-10-02T08:03:52.674690Z",
     "shell.execute_reply": "2023-10-02T08:03:52.673628Z"
    },
    "id": "w9uqTVqftz1w",
    "papermill": {
     "duration": 0.206721,
     "end_time": "2023-10-02T08:03:52.676819",
     "exception": false,
     "start_time": "2023-10-02T08:03:52.470098",
     "status": "completed"
    },
    "tags": []
   },
   "outputs": [],
   "source": [
    "model.save('Skin Cancer.h5')\n"
   ]
  },
  {
   "cell_type": "code",
   "execution_count": 33,
   "id": "412b3f2b",
   "metadata": {
    "execution": {
     "iopub.execute_input": "2023-10-02T08:03:52.865515Z",
     "iopub.status.busy": "2023-10-02T08:03:52.864810Z",
     "iopub.status.idle": "2023-10-02T08:03:53.873795Z",
     "shell.execute_reply": "2023-10-02T08:03:53.872826Z"
    },
    "id": "lzqOpvxMt2Xb",
    "outputId": "758af058-3f8c-4247-93cd-f55366e108ff",
    "papermill": {
     "duration": 1.10595,
     "end_time": "2023-10-02T08:03:53.875979",
     "exception": false,
     "start_time": "2023-10-02T08:03:52.770029",
     "status": "completed"
    },
    "tags": []
   },
   "outputs": [
    {
     "name": "stdout",
     "output_type": "stream",
     "text": [
      "63/63 [==============================] - 1s 9ms/step - loss: 1.4313 - accuracy: 0.7349\n"
     ]
    }
   ],
   "source": [
    "x_test=np.array(x_test).reshape(-1,28,28,3)\n",
    "loss, acc = model.evaluate(x_test, y_test, verbose=1)"
   ]
  },
  {
   "cell_type": "code",
   "execution_count": 36,
   "id": "f4efed00",
   "metadata": {
    "execution": {
     "iopub.execute_input": "2023-10-02T08:03:54.067546Z",
     "iopub.status.busy": "2023-10-02T08:03:54.067212Z",
     "iopub.status.idle": "2023-10-02T08:03:54.490330Z",
     "shell.execute_reply": "2023-10-02T08:03:54.488997Z"
    },
    "id": "ouu5LJMLt7TF",
    "outputId": "0c196d12-d7e6-42c6-bb52-37fab29a8316",
    "papermill": {
     "duration": 0.522384,
     "end_time": "2023-10-02T08:03:54.492233",
     "exception": false,
     "start_time": "2023-10-02T08:03:53.969849",
     "status": "completed"
    },
    "tags": []
   },
   "outputs": [
    {
     "data": {
      "image/png": "[encoded data removed]",
      "text/plain": [
       "<Figure size 640x480 with 1 Axes>"
      ]
     },
     "metadata": {},
     "output_type": "display_data"
    },
    {
     "name": "stdout",
     "output_type": "stream",
     "text": [
      "1/1 [==============================] - 0s 36ms/step\n",
      "[4.28491433e-07 1.59407246e-05 1.12520496e-07 1.09778421e-05\n",
      " 4.62990147e-06 9.99964952e-01 2.93720200e-06]\n",
      "('vasc', ' pyogenic granulomas and hemorrhage')\n"
     ]
    }
   ],
   "source": [
    "# Import the necessary libraries\n",
    "import PIL\n",
    "import matplotlib.pyplot as plt\n",
    "import numpy as np\n",
    "\n",
    "# Load the image\n",
    "image = PIL.Image.open('C:/Users/91891/Downloads/ISIC_0025578.jpg')\n",
    "image = image.resize((28, 28))\n",
    "\n",
    "# Convert the image to a NumPy array\n",
    "img = np.array(image)\n",
    "\n",
    "# Reshape the array if needed\n",
    "#img = img.reshape(-1, 28, 28, 3)  # Uncomment this line if needed\n",
    "\n",
    "# Display the image\n",
    "plt.imshow(img)\n",
    "plt.axis('off')  # Turn off axis labels\n",
    "plt.show()\n",
    "\n",
    "# Rest of your code\n",
    "img = x_test[1]\n",
    "img = np.array(image).reshape(-1, 28, 28, 3)\n",
    "result = model.predict(img)\n",
    "print(result[0])\n",
    "result = result.tolist()\n",
    "max_prob = max(result[0])\n",
    "class_ind = result[0].index(max_prob)\n",
    "print(classes[class_ind])\n"
   ]
  },
  {
   "cell_type": "code",
   "execution_count": null,
   "id": "9088fc86",
   "metadata": {},
   "outputs": [],
   "source": []
  }
 ],
 "metadata": {
  "kernelspec": {
   "display_name": "Python 3 (ipykernel)",
   "language": "python",
   "name": "python3"
  },
  "language_info": {
   "codemirror_mode": {
    "name": "ipython",
    "version": 3
   },
   "file_extension": ".py",
   "mimetype": "text/x-python",
   "name": "python",
   "nbconvert_exporter": "python",
   "pygments_lexer": "ipython3",
   "version": "3.11.5"
  },
  "papermill": {
   "default_parameters": {},
   "duration": 163.351892,
   "end_time": "2023-10-02T08:03:58.428270",
   "environment_variables": {},
   "exception": null,
   "input_path": "__notebook__.ipynb",
   "output_path": "__notebook__.ipynb",
   "parameters": {},
   "start_time": "2023-10-02T08:01:15.076378",
   "version": "2.4.0"
  }
 },
 "nbformat": 4,
 "nbformat_minor": 5
}
